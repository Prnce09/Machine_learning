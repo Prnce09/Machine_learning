{
  "nbformat": 4,
  "nbformat_minor": 0,
  "metadata": {
    "colab": {
      "provenance": [],
      "include_colab_link": true
    },
    "kernelspec": {
      "name": "python3",
      "display_name": "Python 3"
    },
    "language_info": {
      "name": "python"
    },
    "accelerator": "GPU"
  },
  "cells": [
    {
      "cell_type": "markdown",
      "metadata": {
        "id": "view-in-github",
        "colab_type": "text"
      },
      "source": [
        "<a href=\"https://colab.research.google.com/github/Prnce09/Machine_learning/blob/main/Copy_of_Image_Classification_using_ANN_for_XRAY_Images.ipynb\" target=\"_parent\"><img src=\"https://colab.research.google.com/assets/colab-badge.svg\" alt=\"Open In Colab\"/></a>"
      ]
    },
    {
      "cell_type": "code",
      "source": [
        "from google.colab import drive\n",
        "drive.mount('/content/drive')"
      ],
      "metadata": {
        "id": "C34F9pGHRQHA",
        "colab": {
          "base_uri": "https://localhost:8080/"
        },
        "outputId": "7cbf6bbd-e8bf-4502-b3d7-26b9801b8965"
      },
      "execution_count": 1,
      "outputs": [
        {
          "output_type": "stream",
          "name": "stdout",
          "text": [
            "Mounted at /content/drive\n"
          ]
        }
      ]
    },
    {
      "cell_type": "markdown",
      "metadata": {
        "id": "JT4a4dwlqhsd"
      },
      "source": [
        "DEEP LEARNING ANN MODEL FOR X RAY IMAGES"
      ]
    },
    {
      "cell_type": "markdown",
      "metadata": {
        "id": "XwMdAK1XqmPI"
      },
      "source": [
        "# Tutorial 4: Covid 19 Prediction using Artificial Neural Networks"
      ]
    },
    {
      "cell_type": "markdown",
      "metadata": {
        "id": "y9dbM1bxjvnU"
      },
      "source": [
        "Dataset: [Covid 19 Chest X-ray dataset](https://www.kaggle.com/tawsifurrahman/covid19-radiography-database)\n",
        "\n",
        "\n",
        "A team of researchers from Qatar University, Doha, Qatar, and the University of Dhaka, Bangladesh along with their collaborators from Pakistan and Malaysia in collaboration with medical doctors have created a database of chest X-ray images for COVID-19 positive cases along with Normal and Viral Pneumonia images. This COVID-19, normal, and other lung infection dataset is released in stages. In the first release, we have released 219 COVID-19, 1341 normal, and 1345 viral pneumonia chest X-ray (CXR) images. In the first update, we have increased the COVID-19 class to 1200 CXR images. In the 2nd update, we have increased the database to 3616 COVID-19 positive cases along with 10,192 Normal, 6012 Lung Opacity (Non-COVID lung infection), and 1345 Viral Pneumonia images. We will continue to update this database as soon as we have new x-ray images for COVID-19 pneumonia patients.\n",
        "\n"
      ]
    },
    {
      "cell_type": "markdown",
      "metadata": {
        "id": "9mHnC6nNtBK1"
      },
      "source": [
        "**1. Mount the Google Drive**"
      ]
    },
    {
      "cell_type": "code",
      "metadata": {
        "id": "gORvsC4_s_fY",
        "colab": {
          "base_uri": "https://localhost:8080/"
        },
        "outputId": "6c5d251c-fcea-4118-c928-4e09d05ae13f"
      },
      "source": [
        "from google.colab import drive\n",
        "drive.mount('/content/drive/')"
      ],
      "execution_count": 5,
      "outputs": [
        {
          "output_type": "stream",
          "name": "stdout",
          "text": [
            "Drive already mounted at /content/drive/; to attempt to forcibly remount, call drive.mount(\"/content/drive/\", force_remount=True).\n"
          ]
        }
      ]
    },
    {
      "cell_type": "markdown",
      "metadata": {
        "id": "wiZOocimtGeu"
      },
      "source": [
        "**2. Move to the place where data resides**"
      ]
    },
    {
      "cell_type": "code",
      "source": [],
      "metadata": {
        "id": "wg2tuorrEkT_"
      },
      "execution_count": 4,
      "outputs": []
    },
    {
      "cell_type": "code",
      "metadata": {
        "id": "EdbGFIkPlah9",
        "outputId": "ae609bf5-f095-47e3-835d-086709d05076",
        "colab": {
          "base_uri": "https://localhost:8080/"
        }
      },
      "source": [
        "%cd //content/drive/MyDrive/Content_08/"
      ],
      "execution_count": 2,
      "outputs": [
        {
          "output_type": "stream",
          "name": "stdout",
          "text": [
            "/content/drive/MyDrive/Content_08\n"
          ]
        }
      ]
    },
    {
      "cell_type": "code",
      "metadata": {
        "id": "lqViJFpyjxJZ",
        "colab": {
          "base_uri": "https://localhost:8080/"
        },
        "outputId": "fea76e05-ebf0-4a97-9d7e-efb0e0a41370"
      },
      "source": [
        "!ls"
      ],
      "execution_count": 3,
      "outputs": [
        {
          "output_type": "stream",
          "name": "stdout",
          "text": [
            "covid_dataset.zip\n"
          ]
        }
      ]
    },
    {
      "cell_type": "markdown",
      "metadata": {
        "id": "0e8v2RY-tKUs"
      },
      "source": [
        "**3. Unziping the dataset**"
      ]
    },
    {
      "cell_type": "code",
      "source": [
        "!pip install unzip"
      ],
      "metadata": {
        "colab": {
          "base_uri": "https://localhost:8080/"
        },
        "id": "PYfX_i50jzOc",
        "outputId": "76ca8ba2-1b28-4b5c-c60f-f90df481c690"
      },
      "execution_count": 4,
      "outputs": [
        {
          "output_type": "stream",
          "name": "stdout",
          "text": [
            "Collecting unzip\n",
            "  Downloading unzip-1.0.0.tar.gz (704 bytes)\n",
            "  Preparing metadata (setup.py) ... \u001b[?25l\u001b[?25hdone\n",
            "Building wheels for collected packages: unzip\n",
            "  Building wheel for unzip (setup.py) ... \u001b[?25l\u001b[?25hdone\n",
            "  Created wheel for unzip: filename=unzip-1.0.0-py3-none-any.whl size=1281 sha256=f2b6dec1ca798ad949b91531022adc83dba9d197d8f4e76a060f4b65edd107fb\n",
            "  Stored in directory: /root/.cache/pip/wheels/3c/4d/b3/ddd83a91322fba02a91898d3b006090d1df1d3b0ad61bd8b36\n",
            "Successfully built unzip\n",
            "Installing collected packages: unzip\n",
            "Successfully installed unzip-1.0.0\n"
          ]
        }
      ]
    },
    {
      "cell_type": "code",
      "metadata": {
        "id": "kOWDshT6lb8K",
        "colab": {
          "base_uri": "https://localhost:8080/"
        },
        "outputId": "35929138-7a2d-416c-ce77-8a9d1fda323b"
      },
      "source": [
        "!unzip covid_dataset.zip"
      ],
      "execution_count": 6,
      "outputs": [
        {
          "output_type": "stream",
          "name": "stdout",
          "text": [
            "Archive:  covid_dataset.zip\n",
            "   creating: covid_dataset/\n",
            "   creating: covid_dataset/COVID/\n",
            "  inflating: covid_dataset/COVID/COVID-1.png  \n",
            "  inflating: covid_dataset/COVID/COVID-10.png  \n",
            "  inflating: covid_dataset/COVID/COVID-11.png  \n",
            "  inflating: covid_dataset/COVID/COVID-12.png  \n",
            "  inflating: covid_dataset/COVID/COVID-13.png  \n",
            "  inflating: covid_dataset/COVID/COVID-14.png  \n",
            "  inflating: covid_dataset/COVID/COVID-15.png  \n",
            "  inflating: covid_dataset/COVID/COVID-16.png  \n",
            "  inflating: covid_dataset/COVID/COVID-17.png  \n",
            "  inflating: covid_dataset/COVID/COVID-18.png  \n",
            "  inflating: covid_dataset/COVID/COVID-19.png  \n",
            "  inflating: covid_dataset/COVID/COVID-2.png  \n",
            "  inflating: covid_dataset/COVID/COVID-20.png  \n",
            "  inflating: covid_dataset/COVID/COVID-21.png  \n",
            "  inflating: covid_dataset/COVID/COVID-22.png  \n",
            "  inflating: covid_dataset/COVID/COVID-23.png  \n",
            "  inflating: covid_dataset/COVID/COVID-24.png  \n",
            "  inflating: covid_dataset/COVID/COVID-25.png  \n",
            "  inflating: covid_dataset/COVID/COVID-26.png  \n",
            "  inflating: covid_dataset/COVID/COVID-27.png  \n",
            "  inflating: covid_dataset/COVID/COVID-28.png  \n",
            "  inflating: covid_dataset/COVID/COVID-29.png  \n",
            "  inflating: covid_dataset/COVID/COVID-3.png  \n",
            "  inflating: covid_dataset/COVID/COVID-30.png  \n",
            "  inflating: covid_dataset/COVID/COVID-31.png  \n",
            "  inflating: covid_dataset/COVID/COVID-32.png  \n",
            "  inflating: covid_dataset/COVID/COVID-33.png  \n",
            "  inflating: covid_dataset/COVID/COVID-34.png  \n",
            "  inflating: covid_dataset/COVID/COVID-35.png  \n",
            "  inflating: covid_dataset/COVID/COVID-36.png  \n",
            "  inflating: covid_dataset/COVID/COVID-37.png  \n",
            "  inflating: covid_dataset/COVID/COVID-38.png  \n",
            "  inflating: covid_dataset/COVID/COVID-39.png  \n",
            "  inflating: covid_dataset/COVID/COVID-4.png  \n",
            "  inflating: covid_dataset/COVID/COVID-40.png  \n",
            "  inflating: covid_dataset/COVID/COVID-41.png  \n",
            "  inflating: covid_dataset/COVID/COVID-42.png  \n",
            "  inflating: covid_dataset/COVID/COVID-43.png  \n",
            "  inflating: covid_dataset/COVID/COVID-44.png  \n",
            "  inflating: covid_dataset/COVID/COVID-45.png  \n",
            "  inflating: covid_dataset/COVID/COVID-46.png  \n",
            "  inflating: covid_dataset/COVID/COVID-47.png  \n",
            "  inflating: covid_dataset/COVID/COVID-48.png  \n",
            "  inflating: covid_dataset/COVID/COVID-49.png  \n",
            "  inflating: covid_dataset/COVID/COVID-5.png  \n",
            "  inflating: covid_dataset/COVID/COVID-50.png  \n",
            "  inflating: covid_dataset/COVID/COVID-6.png  \n",
            "  inflating: covid_dataset/COVID/COVID-7.png  \n",
            "  inflating: covid_dataset/COVID/COVID-8.png  \n",
            "  inflating: covid_dataset/COVID/COVID-9.png  \n",
            "   creating: covid_dataset/Normal/\n",
            "  inflating: covid_dataset/Normal/Normal-1.png  \n",
            "  inflating: covid_dataset/Normal/Normal-10.png  \n",
            "  inflating: covid_dataset/Normal/Normal-11.png  \n",
            "  inflating: covid_dataset/Normal/Normal-12.png  \n",
            "  inflating: covid_dataset/Normal/Normal-13.png  \n",
            "  inflating: covid_dataset/Normal/Normal-14.png  \n",
            "  inflating: covid_dataset/Normal/Normal-15.png  \n",
            "  inflating: covid_dataset/Normal/Normal-16.png  \n",
            "  inflating: covid_dataset/Normal/Normal-17.png  \n",
            "  inflating: covid_dataset/Normal/Normal-18.png  \n",
            "  inflating: covid_dataset/Normal/Normal-19.png  \n",
            "  inflating: covid_dataset/Normal/Normal-2.png  \n",
            "  inflating: covid_dataset/Normal/Normal-20.png  \n",
            "  inflating: covid_dataset/Normal/Normal-21.png  \n",
            "  inflating: covid_dataset/Normal/Normal-22.png  \n",
            "  inflating: covid_dataset/Normal/Normal-23.png  \n",
            "  inflating: covid_dataset/Normal/Normal-24.png  \n",
            "  inflating: covid_dataset/Normal/Normal-25.png  \n",
            "  inflating: covid_dataset/Normal/Normal-26.png  \n",
            "  inflating: covid_dataset/Normal/Normal-27.png  \n",
            "  inflating: covid_dataset/Normal/Normal-28.png  \n",
            "  inflating: covid_dataset/Normal/Normal-29.png  \n",
            "  inflating: covid_dataset/Normal/Normal-3.png  \n",
            "  inflating: covid_dataset/Normal/Normal-30.png  \n",
            "  inflating: covid_dataset/Normal/Normal-31.png  \n",
            "  inflating: covid_dataset/Normal/Normal-32.png  \n",
            "  inflating: covid_dataset/Normal/Normal-33.png  \n",
            "  inflating: covid_dataset/Normal/Normal-34.png  \n",
            "  inflating: covid_dataset/Normal/Normal-35.png  \n",
            "  inflating: covid_dataset/Normal/Normal-36.png  \n",
            "  inflating: covid_dataset/Normal/Normal-37.png  \n",
            "  inflating: covid_dataset/Normal/Normal-38.png  \n",
            "  inflating: covid_dataset/Normal/Normal-39.png  \n",
            "  inflating: covid_dataset/Normal/Normal-4.png  \n",
            "  inflating: covid_dataset/Normal/Normal-40.png  \n",
            "  inflating: covid_dataset/Normal/Normal-41.png  \n",
            "  inflating: covid_dataset/Normal/Normal-42.png  \n",
            "  inflating: covid_dataset/Normal/Normal-43.png  \n",
            "  inflating: covid_dataset/Normal/Normal-44.png  \n",
            "  inflating: covid_dataset/Normal/Normal-45.png  \n",
            "  inflating: covid_dataset/Normal/Normal-46.png  \n",
            "  inflating: covid_dataset/Normal/Normal-47.png  \n",
            "  inflating: covid_dataset/Normal/Normal-48.png  \n",
            "  inflating: covid_dataset/Normal/Normal-49.png  \n",
            "  inflating: covid_dataset/Normal/Normal-5.png  \n",
            "  inflating: covid_dataset/Normal/Normal-50.png  \n",
            "  inflating: covid_dataset/Normal/Normal-6.png  \n",
            "  inflating: covid_dataset/Normal/Normal-7.png  \n",
            "  inflating: covid_dataset/Normal/Normal-8.png  \n",
            "  inflating: covid_dataset/Normal/Normal-9.png  \n",
            "   creating: covid_dataset/Viral Pneumonia/\n",
            "  inflating: covid_dataset/Viral Pneumonia/Viral Pneumonia-1.png  \n",
            "  inflating: covid_dataset/Viral Pneumonia/Viral Pneumonia-10.png  \n",
            "  inflating: covid_dataset/Viral Pneumonia/Viral Pneumonia-11.png  \n",
            "  inflating: covid_dataset/Viral Pneumonia/Viral Pneumonia-12.png  \n",
            "  inflating: covid_dataset/Viral Pneumonia/Viral Pneumonia-13.png  \n",
            "  inflating: covid_dataset/Viral Pneumonia/Viral Pneumonia-14.png  \n",
            "  inflating: covid_dataset/Viral Pneumonia/Viral Pneumonia-15.png  \n",
            "  inflating: covid_dataset/Viral Pneumonia/Viral Pneumonia-16.png  \n",
            "  inflating: covid_dataset/Viral Pneumonia/Viral Pneumonia-17.png  \n",
            "  inflating: covid_dataset/Viral Pneumonia/Viral Pneumonia-18.png  \n",
            "  inflating: covid_dataset/Viral Pneumonia/Viral Pneumonia-19.png  \n",
            "  inflating: covid_dataset/Viral Pneumonia/Viral Pneumonia-2.png  \n",
            "  inflating: covid_dataset/Viral Pneumonia/Viral Pneumonia-20.png  \n",
            "  inflating: covid_dataset/Viral Pneumonia/Viral Pneumonia-21.png  \n",
            "  inflating: covid_dataset/Viral Pneumonia/Viral Pneumonia-22.png  \n",
            "  inflating: covid_dataset/Viral Pneumonia/Viral Pneumonia-23.png  \n",
            "  inflating: covid_dataset/Viral Pneumonia/Viral Pneumonia-24.png  \n",
            "  inflating: covid_dataset/Viral Pneumonia/Viral Pneumonia-25.png  \n",
            "  inflating: covid_dataset/Viral Pneumonia/Viral Pneumonia-26.png  \n",
            "  inflating: covid_dataset/Viral Pneumonia/Viral Pneumonia-27.png  \n",
            "  inflating: covid_dataset/Viral Pneumonia/Viral Pneumonia-28.png  \n",
            "  inflating: covid_dataset/Viral Pneumonia/Viral Pneumonia-29.png  \n",
            "  inflating: covid_dataset/Viral Pneumonia/Viral Pneumonia-3.png  \n",
            "  inflating: covid_dataset/Viral Pneumonia/Viral Pneumonia-30.png  \n",
            "  inflating: covid_dataset/Viral Pneumonia/Viral Pneumonia-31.png  \n",
            "  inflating: covid_dataset/Viral Pneumonia/Viral Pneumonia-32.png  \n",
            "  inflating: covid_dataset/Viral Pneumonia/Viral Pneumonia-33.png  \n",
            "  inflating: covid_dataset/Viral Pneumonia/Viral Pneumonia-34.png  \n",
            "  inflating: covid_dataset/Viral Pneumonia/Viral Pneumonia-35.png  \n",
            "  inflating: covid_dataset/Viral Pneumonia/Viral Pneumonia-36.png  \n",
            "  inflating: covid_dataset/Viral Pneumonia/Viral Pneumonia-37.png  \n",
            "  inflating: covid_dataset/Viral Pneumonia/Viral Pneumonia-38.png  \n",
            "  inflating: covid_dataset/Viral Pneumonia/Viral Pneumonia-39.png  \n",
            "  inflating: covid_dataset/Viral Pneumonia/Viral Pneumonia-4.png  \n",
            "  inflating: covid_dataset/Viral Pneumonia/Viral Pneumonia-40.png  \n",
            "  inflating: covid_dataset/Viral Pneumonia/Viral Pneumonia-41.png  \n",
            "  inflating: covid_dataset/Viral Pneumonia/Viral Pneumonia-42.png  \n",
            "  inflating: covid_dataset/Viral Pneumonia/Viral Pneumonia-43.png  \n",
            "  inflating: covid_dataset/Viral Pneumonia/Viral Pneumonia-44.png  \n",
            "  inflating: covid_dataset/Viral Pneumonia/Viral Pneumonia-45.png  \n",
            "  inflating: covid_dataset/Viral Pneumonia/Viral Pneumonia-46.png  \n",
            "  inflating: covid_dataset/Viral Pneumonia/Viral Pneumonia-47.png  \n",
            "  inflating: covid_dataset/Viral Pneumonia/Viral Pneumonia-48.png  \n",
            "  inflating: covid_dataset/Viral Pneumonia/Viral Pneumonia-49.png  \n",
            "  inflating: covid_dataset/Viral Pneumonia/Viral Pneumonia-5.png  \n",
            "  inflating: covid_dataset/Viral Pneumonia/Viral Pneumonia-50.png  \n",
            "  inflating: covid_dataset/Viral Pneumonia/Viral Pneumonia-6.png  \n",
            "  inflating: covid_dataset/Viral Pneumonia/Viral Pneumonia-7.png  \n",
            "  inflating: covid_dataset/Viral Pneumonia/Viral Pneumonia-8.png  \n",
            "  inflating: covid_dataset/Viral Pneumonia/Viral Pneumonia-9.png  \n"
          ]
        }
      ]
    },
    {
      "cell_type": "markdown",
      "metadata": {
        "id": "xvuRmzA0tNw0"
      },
      "source": [
        "**4. Install split folder python package**\n",
        "\n",
        "https://pypi.org/project/split-folders/"
      ]
    },
    {
      "cell_type": "code",
      "metadata": {
        "id": "r-4b_r2qlenB",
        "colab": {
          "base_uri": "https://localhost:8080/"
        },
        "outputId": "c9d91e63-7677-4257-c6d8-f65f9a5b4157"
      },
      "source": [
        "!pip install split_folders"
      ],
      "execution_count": 7,
      "outputs": [
        {
          "output_type": "stream",
          "name": "stdout",
          "text": [
            "Collecting split_folders\n",
            "  Downloading split_folders-0.5.1-py3-none-any.whl.metadata (6.2 kB)\n",
            "Downloading split_folders-0.5.1-py3-none-any.whl (8.4 kB)\n",
            "Installing collected packages: split_folders\n",
            "Successfully installed split_folders-0.5.1\n"
          ]
        }
      ]
    },
    {
      "cell_type": "markdown",
      "metadata": {
        "id": "yq0KuuUatVi-"
      },
      "source": [
        "**5. Splitting the data in training, testing and validation set**"
      ]
    },
    {
      "cell_type": "code",
      "metadata": {
        "id": "8xXGHVOIlheA",
        "colab": {
          "base_uri": "https://localhost:8080/"
        },
        "outputId": "14f597ea-941e-411d-eb48-c955b129dd08"
      },
      "source": [
        "import splitfolders\n",
        "splitfolders.ratio(\"covid_dataset\", output=\"split\", seed=1337, ratio=(.8, .1, .1), group_prefix=None)"
      ],
      "execution_count": 8,
      "outputs": [
        {
          "output_type": "stream",
          "name": "stderr",
          "text": [
            "Copying files: 150 files [00:01, 107.85 files/s]\n"
          ]
        }
      ]
    },
    {
      "cell_type": "markdown",
      "metadata": {
        "id": "4_rTBEKCtaTR"
      },
      "source": [
        "**6. Loading the dataset with normalization in batches**"
      ]
    },
    {
      "cell_type": "code",
      "metadata": {
        "id": "4of-TiQPlkCZ",
        "colab": {
          "base_uri": "https://localhost:8080/"
        },
        "outputId": "6ed019b3-4115-45aa-c8ef-5115212fdea0"
      },
      "source": [
        "from tensorflow.keras.preprocessing.image import ImageDataGenerator\n",
        "\n",
        "# Normalize training and validation data in the range of 0 to 1\n",
        "train_datagen = ImageDataGenerator(rescale=1./255)\n",
        "validation_datagen = ImageDataGenerator(rescale=1./255)\n",
        "test_datagen = ImageDataGenerator(rescale=1./255)\n",
        "\n",
        "# Read the training sample and set the batch size\n",
        "train_generator = train_datagen.flow_from_directory(\n",
        "        'split/train/',\n",
        "        target_size=(128, 128),\n",
        "        batch_size=8,\n",
        "        seed=100,\n",
        "        class_mode='categorical')\n",
        "\n",
        "# Read Validation data from directory and define target size with batch size\n",
        "validation_generator = validation_datagen.flow_from_directory(\n",
        "        'split/val/',\n",
        "        target_size=(128, 128),\n",
        "        batch_size=8,\n",
        "        class_mode='categorical',\n",
        "        seed=1000,\n",
        "        shuffle=False)\n",
        "\n",
        "test_generator = test_datagen.flow_from_directory(\n",
        "        'split/test/',\n",
        "        target_size=(128, 128),\n",
        "        batch_size=8,\n",
        "        seed=500,\n",
        "        class_mode='categorical',\n",
        "        shuffle=False)"
      ],
      "execution_count": 9,
      "outputs": [
        {
          "output_type": "stream",
          "name": "stdout",
          "text": [
            "Found 120 images belonging to 3 classes.\n",
            "Found 15 images belonging to 3 classes.\n",
            "Found 15 images belonging to 3 classes.\n"
          ]
        }
      ]
    },
    {
      "cell_type": "markdown",
      "metadata": {
        "id": "ZqmlFmyitf8O"
      },
      "source": [
        "**7. Model Building**"
      ]
    },
    {
      "cell_type": "code",
      "metadata": {
        "id": "RrA7f0eKl4tH",
        "colab": {
          "base_uri": "https://localhost:8080/",
          "height": 306
        },
        "outputId": "0a14abe8-5880-49be-e471-54b14790af87"
      },
      "source": [
        "from tensorflow import keras\n",
        "from tensorflow.keras import layers\n",
        "inputs = keras.Input(shape=(128, 128,3))\n",
        "x = layers.Flatten()(inputs)\n",
        "x = layers.Dense(32, activation=\"relu\")(x)\n",
        "x = layers.Dense(64, activation='relu')(x)\n",
        "outputs = layers.Dense(3, activation=\"softmax\")(x)\n",
        "model = keras.Model(inputs, outputs)\n",
        "model.summary()"
      ],
      "execution_count": 10,
      "outputs": [
        {
          "output_type": "display_data",
          "data": {
            "text/plain": [
              "\u001b[1mModel: \"functional\"\u001b[0m\n"
            ],
            "text/html": [
              "<pre style=\"white-space:pre;overflow-x:auto;line-height:normal;font-family:Menlo,'DejaVu Sans Mono',consolas,'Courier New',monospace\"><span style=\"font-weight: bold\">Model: \"functional\"</span>\n",
              "</pre>\n"
            ]
          },
          "metadata": {}
        },
        {
          "output_type": "display_data",
          "data": {
            "text/plain": [
              "┏━━━━━━━━━━━━━━━━━━━━━━━━━━━━━━━━━┳━━━━━━━━━━━━━━━━━━━━━━━━┳━━━━━━━━━━━━━━━┓\n",
              "┃\u001b[1m \u001b[0m\u001b[1mLayer (type)                   \u001b[0m\u001b[1m \u001b[0m┃\u001b[1m \u001b[0m\u001b[1mOutput Shape          \u001b[0m\u001b[1m \u001b[0m┃\u001b[1m \u001b[0m\u001b[1m      Param #\u001b[0m\u001b[1m \u001b[0m┃\n",
              "┡━━━━━━━━━━━━━━━━━━━━━━━━━━━━━━━━━╇━━━━━━━━━━━━━━━━━━━━━━━━╇━━━━━━━━━━━━━━━┩\n",
              "│ input_layer (\u001b[38;5;33mInputLayer\u001b[0m)        │ (\u001b[38;5;45mNone\u001b[0m, \u001b[38;5;34m128\u001b[0m, \u001b[38;5;34m128\u001b[0m, \u001b[38;5;34m3\u001b[0m)    │             \u001b[38;5;34m0\u001b[0m │\n",
              "├─────────────────────────────────┼────────────────────────┼───────────────┤\n",
              "│ flatten (\u001b[38;5;33mFlatten\u001b[0m)               │ (\u001b[38;5;45mNone\u001b[0m, \u001b[38;5;34m49152\u001b[0m)          │             \u001b[38;5;34m0\u001b[0m │\n",
              "├─────────────────────────────────┼────────────────────────┼───────────────┤\n",
              "│ dense (\u001b[38;5;33mDense\u001b[0m)                   │ (\u001b[38;5;45mNone\u001b[0m, \u001b[38;5;34m32\u001b[0m)             │     \u001b[38;5;34m1,572,896\u001b[0m │\n",
              "├─────────────────────────────────┼────────────────────────┼───────────────┤\n",
              "│ dense_1 (\u001b[38;5;33mDense\u001b[0m)                 │ (\u001b[38;5;45mNone\u001b[0m, \u001b[38;5;34m64\u001b[0m)             │         \u001b[38;5;34m2,112\u001b[0m │\n",
              "├─────────────────────────────────┼────────────────────────┼───────────────┤\n",
              "│ dense_2 (\u001b[38;5;33mDense\u001b[0m)                 │ (\u001b[38;5;45mNone\u001b[0m, \u001b[38;5;34m3\u001b[0m)              │           \u001b[38;5;34m195\u001b[0m │\n",
              "└─────────────────────────────────┴────────────────────────┴───────────────┘\n"
            ],
            "text/html": [
              "<pre style=\"white-space:pre;overflow-x:auto;line-height:normal;font-family:Menlo,'DejaVu Sans Mono',consolas,'Courier New',monospace\">┏━━━━━━━━━━━━━━━━━━━━━━━━━━━━━━━━━┳━━━━━━━━━━━━━━━━━━━━━━━━┳━━━━━━━━━━━━━━━┓\n",
              "┃<span style=\"font-weight: bold\"> Layer (type)                    </span>┃<span style=\"font-weight: bold\"> Output Shape           </span>┃<span style=\"font-weight: bold\">       Param # </span>┃\n",
              "┡━━━━━━━━━━━━━━━━━━━━━━━━━━━━━━━━━╇━━━━━━━━━━━━━━━━━━━━━━━━╇━━━━━━━━━━━━━━━┩\n",
              "│ input_layer (<span style=\"color: #0087ff; text-decoration-color: #0087ff\">InputLayer</span>)        │ (<span style=\"color: #00d7ff; text-decoration-color: #00d7ff\">None</span>, <span style=\"color: #00af00; text-decoration-color: #00af00\">128</span>, <span style=\"color: #00af00; text-decoration-color: #00af00\">128</span>, <span style=\"color: #00af00; text-decoration-color: #00af00\">3</span>)    │             <span style=\"color: #00af00; text-decoration-color: #00af00\">0</span> │\n",
              "├─────────────────────────────────┼────────────────────────┼───────────────┤\n",
              "│ flatten (<span style=\"color: #0087ff; text-decoration-color: #0087ff\">Flatten</span>)               │ (<span style=\"color: #00d7ff; text-decoration-color: #00d7ff\">None</span>, <span style=\"color: #00af00; text-decoration-color: #00af00\">49152</span>)          │             <span style=\"color: #00af00; text-decoration-color: #00af00\">0</span> │\n",
              "├─────────────────────────────────┼────────────────────────┼───────────────┤\n",
              "│ dense (<span style=\"color: #0087ff; text-decoration-color: #0087ff\">Dense</span>)                   │ (<span style=\"color: #00d7ff; text-decoration-color: #00d7ff\">None</span>, <span style=\"color: #00af00; text-decoration-color: #00af00\">32</span>)             │     <span style=\"color: #00af00; text-decoration-color: #00af00\">1,572,896</span> │\n",
              "├─────────────────────────────────┼────────────────────────┼───────────────┤\n",
              "│ dense_1 (<span style=\"color: #0087ff; text-decoration-color: #0087ff\">Dense</span>)                 │ (<span style=\"color: #00d7ff; text-decoration-color: #00d7ff\">None</span>, <span style=\"color: #00af00; text-decoration-color: #00af00\">64</span>)             │         <span style=\"color: #00af00; text-decoration-color: #00af00\">2,112</span> │\n",
              "├─────────────────────────────────┼────────────────────────┼───────────────┤\n",
              "│ dense_2 (<span style=\"color: #0087ff; text-decoration-color: #0087ff\">Dense</span>)                 │ (<span style=\"color: #00d7ff; text-decoration-color: #00d7ff\">None</span>, <span style=\"color: #00af00; text-decoration-color: #00af00\">3</span>)              │           <span style=\"color: #00af00; text-decoration-color: #00af00\">195</span> │\n",
              "└─────────────────────────────────┴────────────────────────┴───────────────┘\n",
              "</pre>\n"
            ]
          },
          "metadata": {}
        },
        {
          "output_type": "display_data",
          "data": {
            "text/plain": [
              "\u001b[1m Total params: \u001b[0m\u001b[38;5;34m1,575,203\u001b[0m (6.01 MB)\n"
            ],
            "text/html": [
              "<pre style=\"white-space:pre;overflow-x:auto;line-height:normal;font-family:Menlo,'DejaVu Sans Mono',consolas,'Courier New',monospace\"><span style=\"font-weight: bold\"> Total params: </span><span style=\"color: #00af00; text-decoration-color: #00af00\">1,575,203</span> (6.01 MB)\n",
              "</pre>\n"
            ]
          },
          "metadata": {}
        },
        {
          "output_type": "display_data",
          "data": {
            "text/plain": [
              "\u001b[1m Trainable params: \u001b[0m\u001b[38;5;34m1,575,203\u001b[0m (6.01 MB)\n"
            ],
            "text/html": [
              "<pre style=\"white-space:pre;overflow-x:auto;line-height:normal;font-family:Menlo,'DejaVu Sans Mono',consolas,'Courier New',monospace\"><span style=\"font-weight: bold\"> Trainable params: </span><span style=\"color: #00af00; text-decoration-color: #00af00\">1,575,203</span> (6.01 MB)\n",
              "</pre>\n"
            ]
          },
          "metadata": {}
        },
        {
          "output_type": "display_data",
          "data": {
            "text/plain": [
              "\u001b[1m Non-trainable params: \u001b[0m\u001b[38;5;34m0\u001b[0m (0.00 B)\n"
            ],
            "text/html": [
              "<pre style=\"white-space:pre;overflow-x:auto;line-height:normal;font-family:Menlo,'DejaVu Sans Mono',consolas,'Courier New',monospace\"><span style=\"font-weight: bold\"> Non-trainable params: </span><span style=\"color: #00af00; text-decoration-color: #00af00\">0</span> (0.00 B)\n",
              "</pre>\n"
            ]
          },
          "metadata": {}
        }
      ]
    },
    {
      "cell_type": "markdown",
      "metadata": {
        "id": "_437haxhtjFa"
      },
      "source": [
        "**8. Model Compilation and Training**"
      ]
    },
    {
      "cell_type": "code",
      "metadata": {
        "id": "DixxjVJelrcg",
        "colab": {
          "base_uri": "https://localhost:8080/"
        },
        "outputId": "9c27a619-2fa2-43d0-edcc-fa66c6248bc4"
      },
      "source": [
        "from tensorflow.keras.optimizers import Adam\n",
        "\n",
        "adam = Adam(learning_rate=0.0001)\n",
        "# We are going to use accuracy metrics and cross entropy loss as performance parameters\n",
        "model.compile(adam, loss='categorical_crossentropy', metrics=['accuracy'])  # Use 'accuracy'\n",
        "# Train the model\n",
        "history = model.fit(train_generator,\n",
        "      steps_per_epoch=int(train_generator.samples / train_generator.batch_size),  # Convert to int\n",
        "      epochs=100,\n",
        "      validation_data=validation_generator,\n",
        "      validation_steps=int(validation_generator.samples / validation_generator.batch_size),  # Convert to int\n",
        "      verbose=1)"
      ],
      "execution_count": 11,
      "outputs": [
        {
          "output_type": "stream",
          "name": "stdout",
          "text": [
            "Epoch 1/100\n"
          ]
        },
        {
          "output_type": "stream",
          "name": "stderr",
          "text": [
            "/usr/local/lib/python3.11/dist-packages/keras/src/trainers/data_adapters/py_dataset_adapter.py:121: UserWarning: Your `PyDataset` class should call `super().__init__(**kwargs)` in its constructor. `**kwargs` can include `workers`, `use_multiprocessing`, `max_queue_size`. Do not pass these arguments to `fit()`, as they will be ignored.\n",
            "  self._warn_if_super_not_called()\n"
          ]
        },
        {
          "output_type": "stream",
          "name": "stdout",
          "text": [
            "\u001b[1m15/15\u001b[0m \u001b[32m━━━━━━━━━━━━━━━━━━━━\u001b[0m\u001b[37m\u001b[0m \u001b[1m4s\u001b[0m 72ms/step - accuracy: 0.2745 - loss: 1.3667 - val_accuracy: 0.5000 - val_loss: 1.0512\n",
            "Epoch 2/100\n",
            "\u001b[1m15/15\u001b[0m \u001b[32m━━━━━━━━━━━━━━━━━━━━\u001b[0m\u001b[37m\u001b[0m \u001b[1m1s\u001b[0m 42ms/step - accuracy: 0.4841 - loss: 0.9840 - val_accuracy: 0.3750 - val_loss: 1.0420\n",
            "Epoch 3/100\n",
            "\u001b[1m15/15\u001b[0m \u001b[32m━━━━━━━━━━━━━━━━━━━━\u001b[0m\u001b[37m\u001b[0m \u001b[1m1s\u001b[0m 42ms/step - accuracy: 0.6525 - loss: 0.7837 - val_accuracy: 0.6250 - val_loss: 0.7755\n",
            "Epoch 4/100\n",
            "\u001b[1m15/15\u001b[0m \u001b[32m━━━━━━━━━━━━━━━━━━━━\u001b[0m\u001b[37m\u001b[0m \u001b[1m1s\u001b[0m 86ms/step - accuracy: 0.6438 - loss: 0.7282 - val_accuracy: 0.6250 - val_loss: 0.9029\n",
            "Epoch 5/100\n",
            "\u001b[1m15/15\u001b[0m \u001b[32m━━━━━━━━━━━━━━━━━━━━\u001b[0m\u001b[37m\u001b[0m \u001b[1m3s\u001b[0m 87ms/step - accuracy: 0.7063 - loss: 0.6484 - val_accuracy: 0.3750 - val_loss: 0.8420\n",
            "Epoch 6/100\n",
            "\u001b[1m15/15\u001b[0m \u001b[32m━━━━━━━━━━━━━━━━━━━━\u001b[0m\u001b[37m\u001b[0m \u001b[1m1s\u001b[0m 86ms/step - accuracy: 0.6265 - loss: 0.7244 - val_accuracy: 0.7500 - val_loss: 0.5718\n",
            "Epoch 7/100\n",
            "\u001b[1m15/15\u001b[0m \u001b[32m━━━━━━━━━━━━━━━━━━━━\u001b[0m\u001b[37m\u001b[0m \u001b[1m3s\u001b[0m 88ms/step - accuracy: 0.6771 - loss: 0.6435 - val_accuracy: 0.8750 - val_loss: 0.6914\n",
            "Epoch 8/100\n",
            "\u001b[1m15/15\u001b[0m \u001b[32m━━━━━━━━━━━━━━━━━━━━\u001b[0m\u001b[37m\u001b[0m \u001b[1m3s\u001b[0m 88ms/step - accuracy: 0.8078 - loss: 0.5243 - val_accuracy: 0.7500 - val_loss: 0.7343\n",
            "Epoch 9/100\n",
            "\u001b[1m15/15\u001b[0m \u001b[32m━━━━━━━━━━━━━━━━━━━━\u001b[0m\u001b[37m\u001b[0m \u001b[1m2s\u001b[0m 42ms/step - accuracy: 0.7122 - loss: 0.6438 - val_accuracy: 0.7500 - val_loss: 0.5658\n",
            "Epoch 10/100\n",
            "\u001b[1m15/15\u001b[0m \u001b[32m━━━━━━━━━━━━━━━━━━━━\u001b[0m\u001b[37m\u001b[0m \u001b[1m1s\u001b[0m 39ms/step - accuracy: 0.7834 - loss: 0.5309 - val_accuracy: 0.7500 - val_loss: 0.6565\n",
            "Epoch 11/100\n",
            "\u001b[1m15/15\u001b[0m \u001b[32m━━━━━━━━━━━━━━━━━━━━\u001b[0m\u001b[37m\u001b[0m \u001b[1m1s\u001b[0m 41ms/step - accuracy: 0.7764 - loss: 0.5532 - val_accuracy: 0.7500 - val_loss: 0.4887\n",
            "Epoch 12/100\n",
            "\u001b[1m15/15\u001b[0m \u001b[32m━━━━━━━━━━━━━━━━━━━━\u001b[0m\u001b[37m\u001b[0m \u001b[1m3s\u001b[0m 133ms/step - accuracy: 0.7405 - loss: 0.5304 - val_accuracy: 0.7500 - val_loss: 0.5802\n",
            "Epoch 13/100\n",
            "\u001b[1m15/15\u001b[0m \u001b[32m━━━━━━━━━━━━━━━━━━━━\u001b[0m\u001b[37m\u001b[0m \u001b[1m1s\u001b[0m 89ms/step - accuracy: 0.7730 - loss: 0.4850 - val_accuracy: 0.7500 - val_loss: 0.5271\n",
            "Epoch 14/100\n",
            "\u001b[1m15/15\u001b[0m \u001b[32m━━━━━━━━━━━━━━━━━━━━\u001b[0m\u001b[37m\u001b[0m \u001b[1m1s\u001b[0m 53ms/step - accuracy: 0.8151 - loss: 0.5110 - val_accuracy: 0.7500 - val_loss: 0.5024\n",
            "Epoch 15/100\n",
            "\u001b[1m15/15\u001b[0m \u001b[32m━━━━━━━━━━━━━━━━━━━━\u001b[0m\u001b[37m\u001b[0m \u001b[1m1s\u001b[0m 84ms/step - accuracy: 0.8625 - loss: 0.4033 - val_accuracy: 0.7500 - val_loss: 0.5281\n",
            "Epoch 16/100\n",
            "\u001b[1m15/15\u001b[0m \u001b[32m━━━━━━━━━━━━━━━━━━━━\u001b[0m\u001b[37m\u001b[0m \u001b[1m3s\u001b[0m 86ms/step - accuracy: 0.8051 - loss: 0.4554 - val_accuracy: 0.8750 - val_loss: 0.4475\n",
            "Epoch 17/100\n",
            "\u001b[1m15/15\u001b[0m \u001b[32m━━━━━━━━━━━━━━━━━━━━\u001b[0m\u001b[37m\u001b[0m \u001b[1m1s\u001b[0m 42ms/step - accuracy: 0.8085 - loss: 0.4383 - val_accuracy: 0.8750 - val_loss: 0.4075\n",
            "Epoch 18/100\n",
            "\u001b[1m15/15\u001b[0m \u001b[32m━━━━━━━━━━━━━━━━━━━━\u001b[0m\u001b[37m\u001b[0m \u001b[1m1s\u001b[0m 43ms/step - accuracy: 0.8655 - loss: 0.4325 - val_accuracy: 0.7500 - val_loss: 0.4675\n",
            "Epoch 19/100\n",
            "\u001b[1m15/15\u001b[0m \u001b[32m━━━━━━━━━━━━━━━━━━━━\u001b[0m\u001b[37m\u001b[0m \u001b[1m1s\u001b[0m 87ms/step - accuracy: 0.8623 - loss: 0.4316 - val_accuracy: 0.7500 - val_loss: 0.3982\n",
            "Epoch 20/100\n",
            "\u001b[1m15/15\u001b[0m \u001b[32m━━━━━━━━━━━━━━━━━━━━\u001b[0m\u001b[37m\u001b[0m \u001b[1m1s\u001b[0m 86ms/step - accuracy: 0.9109 - loss: 0.3641 - val_accuracy: 0.8750 - val_loss: 0.4306\n",
            "Epoch 21/100\n",
            "\u001b[1m15/15\u001b[0m \u001b[32m━━━━━━━━━━━━━━━━━━━━\u001b[0m\u001b[37m\u001b[0m \u001b[1m3s\u001b[0m 86ms/step - accuracy: 0.8074 - loss: 0.4206 - val_accuracy: 0.8750 - val_loss: 0.3568\n",
            "Epoch 22/100\n",
            "\u001b[1m15/15\u001b[0m \u001b[32m━━━━━━━━━━━━━━━━━━━━\u001b[0m\u001b[37m\u001b[0m \u001b[1m3s\u001b[0m 87ms/step - accuracy: 0.9006 - loss: 0.3339 - val_accuracy: 0.8750 - val_loss: 0.4512\n",
            "Epoch 23/100\n",
            "\u001b[1m15/15\u001b[0m \u001b[32m━━━━━━━━━━━━━━━━━━━━\u001b[0m\u001b[37m\u001b[0m \u001b[1m3s\u001b[0m 88ms/step - accuracy: 0.8836 - loss: 0.3387 - val_accuracy: 0.7500 - val_loss: 0.4674\n",
            "Epoch 24/100\n",
            "\u001b[1m15/15\u001b[0m \u001b[32m━━━━━━━━━━━━━━━━━━━━\u001b[0m\u001b[37m\u001b[0m \u001b[1m3s\u001b[0m 88ms/step - accuracy: 0.8186 - loss: 0.4139 - val_accuracy: 0.7500 - val_loss: 0.4093\n",
            "Epoch 25/100\n",
            "\u001b[1m15/15\u001b[0m \u001b[32m━━━━━━━━━━━━━━━━━━━━\u001b[0m\u001b[37m\u001b[0m \u001b[1m1s\u001b[0m 42ms/step - accuracy: 0.8816 - loss: 0.3644 - val_accuracy: 0.7500 - val_loss: 0.5220\n",
            "Epoch 26/100\n",
            "\u001b[1m15/15\u001b[0m \u001b[32m━━━━━━━━━━━━━━━━━━━━\u001b[0m\u001b[37m\u001b[0m \u001b[1m1s\u001b[0m 41ms/step - accuracy: 0.8582 - loss: 0.3499 - val_accuracy: 0.7500 - val_loss: 0.3421\n",
            "Epoch 27/100\n",
            "\u001b[1m15/15\u001b[0m \u001b[32m━━━━━━━━━━━━━━━━━━━━\u001b[0m\u001b[37m\u001b[0m \u001b[1m1s\u001b[0m 40ms/step - accuracy: 0.9095 - loss: 0.3216 - val_accuracy: 0.8750 - val_loss: 0.3905\n",
            "Epoch 28/100\n",
            "\u001b[1m15/15\u001b[0m \u001b[32m━━━━━━━━━━━━━━━━━━━━\u001b[0m\u001b[37m\u001b[0m \u001b[1m1s\u001b[0m 40ms/step - accuracy: 0.8399 - loss: 0.3644 - val_accuracy: 0.8750 - val_loss: 0.3685\n",
            "Epoch 29/100\n",
            "\u001b[1m15/15\u001b[0m \u001b[32m━━━━━━━━━━━━━━━━━━━━\u001b[0m\u001b[37m\u001b[0m \u001b[1m1s\u001b[0m 42ms/step - accuracy: 0.8629 - loss: 0.3522 - val_accuracy: 0.7500 - val_loss: 0.3247\n",
            "Epoch 30/100\n",
            "\u001b[1m15/15\u001b[0m \u001b[32m━━━━━━━━━━━━━━━━━━━━\u001b[0m\u001b[37m\u001b[0m \u001b[1m1s\u001b[0m 42ms/step - accuracy: 0.9084 - loss: 0.3360 - val_accuracy: 0.7500 - val_loss: 0.4666\n",
            "Epoch 31/100\n",
            "\u001b[1m15/15\u001b[0m \u001b[32m━━━━━━━━━━━━━━━━━━━━\u001b[0m\u001b[37m\u001b[0m \u001b[1m3s\u001b[0m 135ms/step - accuracy: 0.8926 - loss: 0.3221 - val_accuracy: 0.7500 - val_loss: 0.4452\n",
            "Epoch 32/100\n",
            "\u001b[1m15/15\u001b[0m \u001b[32m━━━━━━━━━━━━━━━━━━━━\u001b[0m\u001b[37m\u001b[0m \u001b[1m1s\u001b[0m 83ms/step - accuracy: 0.9288 - loss: 0.2971 - val_accuracy: 0.7500 - val_loss: 0.6297\n",
            "Epoch 33/100\n",
            "\u001b[1m15/15\u001b[0m \u001b[32m━━━━━━━━━━━━━━━━━━━━\u001b[0m\u001b[37m\u001b[0m \u001b[1m1s\u001b[0m 86ms/step - accuracy: 0.8543 - loss: 0.3118 - val_accuracy: 0.7500 - val_loss: 0.3746\n",
            "Epoch 34/100\n",
            "\u001b[1m15/15\u001b[0m \u001b[32m━━━━━━━━━━━━━━━━━━━━\u001b[0m\u001b[37m\u001b[0m \u001b[1m1s\u001b[0m 42ms/step - accuracy: 0.8621 - loss: 0.2950 - val_accuracy: 0.7500 - val_loss: 0.3918\n",
            "Epoch 35/100\n",
            "\u001b[1m15/15\u001b[0m \u001b[32m━━━━━━━━━━━━━━━━━━━━\u001b[0m\u001b[37m\u001b[0m \u001b[1m1s\u001b[0m 42ms/step - accuracy: 0.8435 - loss: 0.3386 - val_accuracy: 0.7500 - val_loss: 0.4336\n",
            "Epoch 36/100\n",
            "\u001b[1m15/15\u001b[0m \u001b[32m━━━━━━━━━━━━━━━━━━━━\u001b[0m\u001b[37m\u001b[0m \u001b[1m1s\u001b[0m 40ms/step - accuracy: 0.8331 - loss: 0.3640 - val_accuracy: 0.7500 - val_loss: 0.5326\n",
            "Epoch 37/100\n",
            "\u001b[1m15/15\u001b[0m \u001b[32m━━━━━━━━━━━━━━━━━━━━\u001b[0m\u001b[37m\u001b[0m \u001b[1m1s\u001b[0m 42ms/step - accuracy: 0.8096 - loss: 0.4092 - val_accuracy: 0.8750 - val_loss: 0.3100\n",
            "Epoch 38/100\n",
            "\u001b[1m15/15\u001b[0m \u001b[32m━━━━━━━━━━━━━━━━━━━━\u001b[0m\u001b[37m\u001b[0m \u001b[1m1s\u001b[0m 86ms/step - accuracy: 0.9331 - loss: 0.2560 - val_accuracy: 0.7500 - val_loss: 0.3970\n",
            "Epoch 39/100\n",
            "\u001b[1m15/15\u001b[0m \u001b[32m━━━━━━━━━━━━━━━━━━━━\u001b[0m\u001b[37m\u001b[0m \u001b[1m1s\u001b[0m 41ms/step - accuracy: 0.9185 - loss: 0.2381 - val_accuracy: 0.7500 - val_loss: 0.5323\n",
            "Epoch 40/100\n",
            "\u001b[1m15/15\u001b[0m \u001b[32m━━━━━━━━━━━━━━━━━━━━\u001b[0m\u001b[37m\u001b[0m \u001b[1m1s\u001b[0m 40ms/step - accuracy: 0.9475 - loss: 0.2289 - val_accuracy: 0.8750 - val_loss: 0.3079\n",
            "Epoch 41/100\n",
            "\u001b[1m15/15\u001b[0m \u001b[32m━━━━━━━━━━━━━━━━━━━━\u001b[0m\u001b[37m\u001b[0m \u001b[1m1s\u001b[0m 41ms/step - accuracy: 0.9658 - loss: 0.1846 - val_accuracy: 0.7500 - val_loss: 0.3220\n",
            "Epoch 42/100\n",
            "\u001b[1m15/15\u001b[0m \u001b[32m━━━━━━━━━━━━━━━━━━━━\u001b[0m\u001b[37m\u001b[0m \u001b[1m1s\u001b[0m 57ms/step - accuracy: 0.8921 - loss: 0.2666 - val_accuracy: 0.8750 - val_loss: 0.3069\n",
            "Epoch 43/100\n",
            "\u001b[1m15/15\u001b[0m \u001b[32m━━━━━━━━━━━━━━━━━━━━\u001b[0m\u001b[37m\u001b[0m \u001b[1m1s\u001b[0m 56ms/step - accuracy: 0.9379 - loss: 0.2304 - val_accuracy: 0.8750 - val_loss: 0.3459\n",
            "Epoch 44/100\n",
            "\u001b[1m15/15\u001b[0m \u001b[32m━━━━━━━━━━━━━━━━━━━━\u001b[0m\u001b[37m\u001b[0m \u001b[1m1s\u001b[0m 83ms/step - accuracy: 0.9102 - loss: 0.2357 - val_accuracy: 0.7500 - val_loss: 0.4176\n",
            "Epoch 45/100\n",
            "\u001b[1m15/15\u001b[0m \u001b[32m━━━━━━━━━━━━━━━━━━━━\u001b[0m\u001b[37m\u001b[0m \u001b[1m1s\u001b[0m 86ms/step - accuracy: 0.9363 - loss: 0.1993 - val_accuracy: 0.7500 - val_loss: 0.7697\n",
            "Epoch 46/100\n",
            "\u001b[1m15/15\u001b[0m \u001b[32m━━━━━━━━━━━━━━━━━━━━\u001b[0m\u001b[37m\u001b[0m \u001b[1m1s\u001b[0m 41ms/step - accuracy: 0.8321 - loss: 0.3553 - val_accuracy: 0.8750 - val_loss: 0.2935\n",
            "Epoch 47/100\n",
            "\u001b[1m15/15\u001b[0m \u001b[32m━━━━━━━━━━━━━━━━━━━━\u001b[0m\u001b[37m\u001b[0m \u001b[1m1s\u001b[0m 41ms/step - accuracy: 0.9410 - loss: 0.2186 - val_accuracy: 0.7500 - val_loss: 0.3001\n",
            "Epoch 48/100\n",
            "\u001b[1m15/15\u001b[0m \u001b[32m━━━━━━━━━━━━━━━━━━━━\u001b[0m\u001b[37m\u001b[0m \u001b[1m1s\u001b[0m 41ms/step - accuracy: 0.9364 - loss: 0.2471 - val_accuracy: 1.0000 - val_loss: 0.2740\n",
            "Epoch 49/100\n",
            "\u001b[1m15/15\u001b[0m \u001b[32m━━━━━━━━━━━━━━━━━━━━\u001b[0m\u001b[37m\u001b[0m \u001b[1m1s\u001b[0m 86ms/step - accuracy: 0.9466 - loss: 0.1768 - val_accuracy: 1.0000 - val_loss: 0.2683\n",
            "Epoch 50/100\n",
            "\u001b[1m15/15\u001b[0m \u001b[32m━━━━━━━━━━━━━━━━━━━━\u001b[0m\u001b[37m\u001b[0m \u001b[1m3s\u001b[0m 87ms/step - accuracy: 0.9035 - loss: 0.2380 - val_accuracy: 0.7500 - val_loss: 0.3645\n",
            "Epoch 51/100\n",
            "\u001b[1m15/15\u001b[0m \u001b[32m━━━━━━━━━━━━━━━━━━━━\u001b[0m\u001b[37m\u001b[0m \u001b[1m1s\u001b[0m 40ms/step - accuracy: 0.9625 - loss: 0.1767 - val_accuracy: 0.8750 - val_loss: 0.3043\n",
            "Epoch 52/100\n",
            "\u001b[1m15/15\u001b[0m \u001b[32m━━━━━━━━━━━━━━━━━━━━\u001b[0m\u001b[37m\u001b[0m \u001b[1m1s\u001b[0m 40ms/step - accuracy: 0.9596 - loss: 0.1923 - val_accuracy: 1.0000 - val_loss: 0.2607\n",
            "Epoch 53/100\n",
            "\u001b[1m15/15\u001b[0m \u001b[32m━━━━━━━━━━━━━━━━━━━━\u001b[0m\u001b[37m\u001b[0m \u001b[1m1s\u001b[0m 88ms/step - accuracy: 0.9025 - loss: 0.2544 - val_accuracy: 0.7500 - val_loss: 0.3723\n",
            "Epoch 54/100\n",
            "\u001b[1m15/15\u001b[0m \u001b[32m━━━━━━━━━━━━━━━━━━━━\u001b[0m\u001b[37m\u001b[0m \u001b[1m1s\u001b[0m 84ms/step - accuracy: 0.9553 - loss: 0.1759 - val_accuracy: 1.0000 - val_loss: 0.2590\n",
            "Epoch 55/100\n",
            "\u001b[1m15/15\u001b[0m \u001b[32m━━━━━━━━━━━━━━━━━━━━\u001b[0m\u001b[37m\u001b[0m \u001b[1m2s\u001b[0m 41ms/step - accuracy: 0.9653 - loss: 0.1818 - val_accuracy: 0.7500 - val_loss: 0.4737\n",
            "Epoch 56/100\n",
            "\u001b[1m15/15\u001b[0m \u001b[32m━━━━━━━━━━━━━━━━━━━━\u001b[0m\u001b[37m\u001b[0m \u001b[1m1s\u001b[0m 41ms/step - accuracy: 0.9667 - loss: 0.1477 - val_accuracy: 1.0000 - val_loss: 0.2672\n",
            "Epoch 57/100\n",
            "\u001b[1m15/15\u001b[0m \u001b[32m━━━━━━━━━━━━━━━━━━━━\u001b[0m\u001b[37m\u001b[0m \u001b[1m1s\u001b[0m 41ms/step - accuracy: 0.9724 - loss: 0.1408 - val_accuracy: 0.8750 - val_loss: 0.2574\n",
            "Epoch 58/100\n",
            "\u001b[1m15/15\u001b[0m \u001b[32m━━━━━━━━━━━━━━━━━━━━\u001b[0m\u001b[37m\u001b[0m \u001b[1m1s\u001b[0m 40ms/step - accuracy: 0.9912 - loss: 0.1336 - val_accuracy: 0.8750 - val_loss: 0.2838\n",
            "Epoch 59/100\n",
            "\u001b[1m15/15\u001b[0m \u001b[32m━━━━━━━━━━━━━━━━━━━━\u001b[0m\u001b[37m\u001b[0m \u001b[1m1s\u001b[0m 41ms/step - accuracy: 0.9697 - loss: 0.1221 - val_accuracy: 0.7500 - val_loss: 0.3759\n",
            "Epoch 60/100\n",
            "\u001b[1m15/15\u001b[0m \u001b[32m━━━━━━━━━━━━━━━━━━━━\u001b[0m\u001b[37m\u001b[0m \u001b[1m1s\u001b[0m 86ms/step - accuracy: 0.9905 - loss: 0.1227 - val_accuracy: 0.8750 - val_loss: 0.2722\n",
            "Epoch 61/100\n",
            "\u001b[1m15/15\u001b[0m \u001b[32m━━━━━━━━━━━━━━━━━━━━\u001b[0m\u001b[37m\u001b[0m \u001b[1m2s\u001b[0m 43ms/step - accuracy: 0.9821 - loss: 0.1457 - val_accuracy: 0.8750 - val_loss: 0.2457\n",
            "Epoch 62/100\n",
            "\u001b[1m15/15\u001b[0m \u001b[32m━━━━━━━━━━━━━━━━━━━━\u001b[0m\u001b[37m\u001b[0m \u001b[1m1s\u001b[0m 43ms/step - accuracy: 0.9763 - loss: 0.1281 - val_accuracy: 0.8750 - val_loss: 0.3063\n",
            "Epoch 63/100\n",
            "\u001b[1m15/15\u001b[0m \u001b[32m━━━━━━━━━━━━━━━━━━━━\u001b[0m\u001b[37m\u001b[0m \u001b[1m1s\u001b[0m 52ms/step - accuracy: 0.9862 - loss: 0.1495 - val_accuracy: 0.8750 - val_loss: 0.2736\n",
            "Epoch 64/100\n",
            "\u001b[1m15/15\u001b[0m \u001b[32m━━━━━━━━━━━━━━━━━━━━\u001b[0m\u001b[37m\u001b[0m \u001b[1m1s\u001b[0m 52ms/step - accuracy: 0.9693 - loss: 0.1316 - val_accuracy: 0.7500 - val_loss: 0.3530\n",
            "Epoch 65/100\n",
            "\u001b[1m15/15\u001b[0m \u001b[32m━━━━━━━━━━━━━━━━━━━━\u001b[0m\u001b[37m\u001b[0m \u001b[1m1s\u001b[0m 56ms/step - accuracy: 0.9205 - loss: 0.2000 - val_accuracy: 0.7500 - val_loss: 0.3867\n",
            "Epoch 66/100\n",
            "\u001b[1m15/15\u001b[0m \u001b[32m━━━━━━━━━━━━━━━━━━━━\u001b[0m\u001b[37m\u001b[0m \u001b[1m1s\u001b[0m 41ms/step - accuracy: 0.9738 - loss: 0.1397 - val_accuracy: 0.7500 - val_loss: 0.4353\n",
            "Epoch 67/100\n",
            "\u001b[1m15/15\u001b[0m \u001b[32m━━━━━━━━━━━━━━━━━━━━\u001b[0m\u001b[37m\u001b[0m \u001b[1m1s\u001b[0m 85ms/step - accuracy: 0.9714 - loss: 0.1569 - val_accuracy: 0.7500 - val_loss: 0.3286\n",
            "Epoch 68/100\n",
            "\u001b[1m15/15\u001b[0m \u001b[32m━━━━━━━━━━━━━━━━━━━━\u001b[0m\u001b[37m\u001b[0m \u001b[1m1s\u001b[0m 85ms/step - accuracy: 0.9971 - loss: 0.1154 - val_accuracy: 0.8750 - val_loss: 0.2303\n",
            "Epoch 69/100\n",
            "\u001b[1m15/15\u001b[0m \u001b[32m━━━━━━━━━━━━━━━━━━━━\u001b[0m\u001b[37m\u001b[0m \u001b[1m1s\u001b[0m 85ms/step - accuracy: 0.9827 - loss: 0.1361 - val_accuracy: 0.8750 - val_loss: 0.2553\n",
            "Epoch 70/100\n",
            "\u001b[1m15/15\u001b[0m \u001b[32m━━━━━━━━━━━━━━━━━━━━\u001b[0m\u001b[37m\u001b[0m \u001b[1m2s\u001b[0m 40ms/step - accuracy: 0.9863 - loss: 0.1259 - val_accuracy: 0.8750 - val_loss: 0.3331\n",
            "Epoch 71/100\n",
            "\u001b[1m15/15\u001b[0m \u001b[32m━━━━━━━━━━━━━━━━━━━━\u001b[0m\u001b[37m\u001b[0m \u001b[1m1s\u001b[0m 85ms/step - accuracy: 0.9809 - loss: 0.1240 - val_accuracy: 0.8750 - val_loss: 0.3410\n",
            "Epoch 72/100\n",
            "\u001b[1m15/15\u001b[0m \u001b[32m━━━━━━━━━━━━━━━━━━━━\u001b[0m\u001b[37m\u001b[0m \u001b[1m3s\u001b[0m 89ms/step - accuracy: 0.9894 - loss: 0.1256 - val_accuracy: 0.8750 - val_loss: 0.2415\n",
            "Epoch 73/100\n",
            "\u001b[1m15/15\u001b[0m \u001b[32m━━━━━━━━━━━━━━━━━━━━\u001b[0m\u001b[37m\u001b[0m \u001b[1m1s\u001b[0m 82ms/step - accuracy: 0.9752 - loss: 0.1434 - val_accuracy: 0.8750 - val_loss: 0.2959\n",
            "Epoch 74/100\n",
            "\u001b[1m15/15\u001b[0m \u001b[32m━━━━━━━━━━━━━━━━━━━━\u001b[0m\u001b[37m\u001b[0m \u001b[1m1s\u001b[0m 83ms/step - accuracy: 0.9862 - loss: 0.1143 - val_accuracy: 0.8750 - val_loss: 0.2363\n",
            "Epoch 75/100\n",
            "\u001b[1m15/15\u001b[0m \u001b[32m━━━━━━━━━━━━━━━━━━━━\u001b[0m\u001b[37m\u001b[0m \u001b[1m1s\u001b[0m 41ms/step - accuracy: 0.9835 - loss: 0.1189 - val_accuracy: 0.8750 - val_loss: 0.2616\n",
            "Epoch 76/100\n",
            "\u001b[1m15/15\u001b[0m \u001b[32m━━━━━━━━━━━━━━━━━━━━\u001b[0m\u001b[37m\u001b[0m \u001b[1m1s\u001b[0m 42ms/step - accuracy: 0.9576 - loss: 0.1163 - val_accuracy: 0.8750 - val_loss: 0.3711\n",
            "Epoch 77/100\n",
            "\u001b[1m15/15\u001b[0m \u001b[32m━━━━━━━━━━━━━━━━━━━━\u001b[0m\u001b[37m\u001b[0m \u001b[1m1s\u001b[0m 42ms/step - accuracy: 0.9627 - loss: 0.1273 - val_accuracy: 0.7500 - val_loss: 0.3931\n",
            "Epoch 78/100\n",
            "\u001b[1m15/15\u001b[0m \u001b[32m━━━━━━━━━━━━━━━━━━━━\u001b[0m\u001b[37m\u001b[0m \u001b[1m1s\u001b[0m 41ms/step - accuracy: 0.9784 - loss: 0.0919 - val_accuracy: 0.8750 - val_loss: 0.2431\n",
            "Epoch 79/100\n",
            "\u001b[1m15/15\u001b[0m \u001b[32m━━━━━━━━━━━━━━━━━━━━\u001b[0m\u001b[37m\u001b[0m \u001b[1m1s\u001b[0m 86ms/step - accuracy: 0.9961 - loss: 0.0826 - val_accuracy: 0.8750 - val_loss: 0.2762\n",
            "Epoch 80/100\n",
            "\u001b[1m15/15\u001b[0m \u001b[32m━━━━━━━━━━━━━━━━━━━━\u001b[0m\u001b[37m\u001b[0m \u001b[1m1s\u001b[0m 42ms/step - accuracy: 0.9664 - loss: 0.1010 - val_accuracy: 0.8750 - val_loss: 0.2366\n",
            "Epoch 81/100\n",
            "\u001b[1m15/15\u001b[0m \u001b[32m━━━━━━━━━━━━━━━━━━━━\u001b[0m\u001b[37m\u001b[0m \u001b[1m1s\u001b[0m 43ms/step - accuracy: 0.9879 - loss: 0.0822 - val_accuracy: 1.0000 - val_loss: 0.2305\n",
            "Epoch 82/100\n",
            "\u001b[1m15/15\u001b[0m \u001b[32m━━━━━━━━━━━━━━━━━━━━\u001b[0m\u001b[37m\u001b[0m \u001b[1m1s\u001b[0m 43ms/step - accuracy: 0.9948 - loss: 0.0962 - val_accuracy: 0.8750 - val_loss: 0.2342\n",
            "Epoch 83/100\n",
            "\u001b[1m15/15\u001b[0m \u001b[32m━━━━━━━━━━━━━━━━━━━━\u001b[0m\u001b[37m\u001b[0m \u001b[1m1s\u001b[0m 44ms/step - accuracy: 0.9922 - loss: 0.1029 - val_accuracy: 0.7500 - val_loss: 0.5822\n",
            "Epoch 84/100\n",
            "\u001b[1m15/15\u001b[0m \u001b[32m━━━━━━━━━━━━━━━━━━━━\u001b[0m\u001b[37m\u001b[0m \u001b[1m3s\u001b[0m 134ms/step - accuracy: 0.9506 - loss: 0.1280 - val_accuracy: 0.7500 - val_loss: 0.7528\n",
            "Epoch 85/100\n",
            "\u001b[1m15/15\u001b[0m \u001b[32m━━━━━━━━━━━━━━━━━━━━\u001b[0m\u001b[37m\u001b[0m \u001b[1m1s\u001b[0m 41ms/step - accuracy: 0.9700 - loss: 0.1277 - val_accuracy: 0.7500 - val_loss: 0.4766\n",
            "Epoch 86/100\n",
            "\u001b[1m15/15\u001b[0m \u001b[32m━━━━━━━━━━━━━━━━━━━━\u001b[0m\u001b[37m\u001b[0m \u001b[1m1s\u001b[0m 40ms/step - accuracy: 0.9398 - loss: 0.1370 - val_accuracy: 0.7500 - val_loss: 0.3246\n",
            "Epoch 87/100\n",
            "\u001b[1m15/15\u001b[0m \u001b[32m━━━━━━━━━━━━━━━━━━━━\u001b[0m\u001b[37m\u001b[0m \u001b[1m1s\u001b[0m 86ms/step - accuracy: 1.0000 - loss: 0.0941 - val_accuracy: 0.8750 - val_loss: 0.2177\n",
            "Epoch 88/100\n",
            "\u001b[1m15/15\u001b[0m \u001b[32m━━━━━━━━━━━━━━━━━━━━\u001b[0m\u001b[37m\u001b[0m \u001b[1m1s\u001b[0m 41ms/step - accuracy: 0.9938 - loss: 0.0836 - val_accuracy: 1.0000 - val_loss: 0.2121\n",
            "Epoch 89/100\n",
            "\u001b[1m15/15\u001b[0m \u001b[32m━━━━━━━━━━━━━━━━━━━━\u001b[0m\u001b[37m\u001b[0m \u001b[1m1s\u001b[0m 43ms/step - accuracy: 1.0000 - loss: 0.1005 - val_accuracy: 0.8750 - val_loss: 0.2511\n",
            "Epoch 90/100\n",
            "\u001b[1m15/15\u001b[0m \u001b[32m━━━━━━━━━━━━━━━━━━━━\u001b[0m\u001b[37m\u001b[0m \u001b[1m1s\u001b[0m 41ms/step - accuracy: 1.0000 - loss: 0.0773 - val_accuracy: 0.8750 - val_loss: 0.2958\n",
            "Epoch 91/100\n",
            "\u001b[1m15/15\u001b[0m \u001b[32m━━━━━━━━━━━━━━━━━━━━\u001b[0m\u001b[37m\u001b[0m \u001b[1m1s\u001b[0m 86ms/step - accuracy: 0.9736 - loss: 0.0828 - val_accuracy: 0.8750 - val_loss: 0.2737\n",
            "Epoch 92/100\n",
            "\u001b[1m15/15\u001b[0m \u001b[32m━━━━━━━━━━━━━━━━━━━━\u001b[0m\u001b[37m\u001b[0m \u001b[1m3s\u001b[0m 87ms/step - accuracy: 1.0000 - loss: 0.0699 - val_accuracy: 0.8750 - val_loss: 0.2991\n",
            "Epoch 93/100\n",
            "\u001b[1m15/15\u001b[0m \u001b[32m━━━━━━━━━━━━━━━━━━━━\u001b[0m\u001b[37m\u001b[0m \u001b[1m1s\u001b[0m 87ms/step - accuracy: 0.9971 - loss: 0.0545 - val_accuracy: 0.8750 - val_loss: 0.2292\n",
            "Epoch 94/100\n",
            "\u001b[1m15/15\u001b[0m \u001b[32m━━━━━━━━━━━━━━━━━━━━\u001b[0m\u001b[37m\u001b[0m \u001b[1m3s\u001b[0m 87ms/step - accuracy: 0.9971 - loss: 0.0617 - val_accuracy: 0.8750 - val_loss: 0.2219\n",
            "Epoch 95/100\n",
            "\u001b[1m15/15\u001b[0m \u001b[32m━━━━━━━━━━━━━━━━━━━━\u001b[0m\u001b[37m\u001b[0m \u001b[1m1s\u001b[0m 86ms/step - accuracy: 1.0000 - loss: 0.0555 - val_accuracy: 0.8750 - val_loss: 0.2390\n",
            "Epoch 96/100\n",
            "\u001b[1m15/15\u001b[0m \u001b[32m━━━━━━━━━━━━━━━━━━━━\u001b[0m\u001b[37m\u001b[0m \u001b[1m3s\u001b[0m 87ms/step - accuracy: 1.0000 - loss: 0.0518 - val_accuracy: 0.8750 - val_loss: 0.3058\n",
            "Epoch 97/100\n",
            "\u001b[1m15/15\u001b[0m \u001b[32m━━━━━━━━━━━━━━━━━━━━\u001b[0m\u001b[37m\u001b[0m \u001b[1m1s\u001b[0m 42ms/step - accuracy: 0.9736 - loss: 0.0816 - val_accuracy: 0.7500 - val_loss: 0.4531\n",
            "Epoch 98/100\n",
            "\u001b[1m15/15\u001b[0m \u001b[32m━━━━━━━━━━━━━━━━━━━━\u001b[0m\u001b[37m\u001b[0m \u001b[1m1s\u001b[0m 88ms/step - accuracy: 0.9879 - loss: 0.0864 - val_accuracy: 0.7500 - val_loss: 0.3753\n",
            "Epoch 99/100\n",
            "\u001b[1m15/15\u001b[0m \u001b[32m━━━━━━━━━━━━━━━━━━━━\u001b[0m\u001b[37m\u001b[0m \u001b[1m2s\u001b[0m 42ms/step - accuracy: 1.0000 - loss: 0.0563 - val_accuracy: 0.8750 - val_loss: 0.2404\n",
            "Epoch 100/100\n",
            "\u001b[1m15/15\u001b[0m \u001b[32m━━━━━━━━━━━━━━━━━━━━\u001b[0m\u001b[37m\u001b[0m \u001b[1m1s\u001b[0m 87ms/step - accuracy: 0.9853 - loss: 0.0775 - val_accuracy: 0.8750 - val_loss: 0.3127\n"
          ]
        }
      ]
    },
    {
      "cell_type": "markdown",
      "metadata": {
        "id": "7h2kqqa0tpx9"
      },
      "source": [
        "**9. Model saving**"
      ]
    },
    {
      "cell_type": "code",
      "metadata": {
        "id": "AMlZWxBhnfjh",
        "colab": {
          "base_uri": "https://localhost:8080/"
        },
        "outputId": "1b84e3bd-c96c-4b1b-fd66-33f6ff8c4919"
      },
      "source": [
        "model.save('covid_classification.h5')"
      ],
      "execution_count": 12,
      "outputs": [
        {
          "output_type": "stream",
          "name": "stderr",
          "text": [
            "WARNING:absl:You are saving your model as an HDF5 file via `model.save()` or `keras.saving.save_model(model)`. This file format is considered legacy. We recommend using instead the native Keras format, e.g. `model.save('my_model.keras')` or `keras.saving.save_model(model, 'my_model.keras')`. \n"
          ]
        }
      ]
    },
    {
      "cell_type": "markdown",
      "metadata": {
        "id": "v64VrifGtsSn"
      },
      "source": [
        "**10. Model loading**"
      ]
    },
    {
      "cell_type": "code",
      "metadata": {
        "id": "h5kAXwzBoIzp",
        "colab": {
          "base_uri": "https://localhost:8080/"
        },
        "outputId": "4413d343-7848-4a15-861b-503210a9537b"
      },
      "source": [
        "from tensorflow.keras import models\n",
        "model = models.load_model('covid_classification.h5')"
      ],
      "execution_count": 13,
      "outputs": [
        {
          "output_type": "stream",
          "name": "stderr",
          "text": [
            "WARNING:absl:Compiled the loaded model, but the compiled metrics have yet to be built. `model.compile_metrics` will be empty until you train or evaluate the model.\n"
          ]
        }
      ]
    },
    {
      "cell_type": "markdown",
      "metadata": {
        "id": "EuGiWfjQtvDq"
      },
      "source": [
        "**11. Model weights saving**"
      ]
    },
    {
      "cell_type": "code",
      "metadata": {
        "id": "brmKRhGtoZVA"
      },
      "source": [
        "model.save_weights('covid_classification_weights.weights.h5')"
      ],
      "execution_count": 14,
      "outputs": []
    },
    {
      "cell_type": "markdown",
      "metadata": {
        "id": "g_mHfakptxUF"
      },
      "source": [
        "**12. Model weights loading**"
      ]
    },
    {
      "cell_type": "code",
      "metadata": {
        "id": "Oc3YG_vioL9a"
      },
      "source": [
        "model.load_weights('covid_classification_weights.weights.h5')"
      ],
      "execution_count": 15,
      "outputs": []
    },
    {
      "cell_type": "markdown",
      "metadata": {
        "id": "YJhgz0AAtzcm"
      },
      "source": [
        "**13. Plotting accuracy and loss graph for training and validation dataset**"
      ]
    },
    {
      "cell_type": "code",
      "metadata": {
        "id": "lKLbBshSocU6"
      },
      "source": [
        "train_acc = history.history['accuracy'] # Change 'acc' to 'accuracy'\n",
        "val_acc = history.history['val_accuracy'] # Change 'val_acc' to 'val_accuracy'\n",
        "train_loss = history.history['loss']\n",
        "val_loss = history.history['val_loss']"
      ],
      "execution_count": 16,
      "outputs": []
    },
    {
      "cell_type": "code",
      "metadata": {
        "id": "BfqOqEpVogvN",
        "colab": {
          "base_uri": "https://localhost:8080/",
          "height": 904
        },
        "outputId": "2d0cc70b-7999-4bca-b742-a1663b620a55"
      },
      "source": [
        "import matplotlib.pyplot as plt\n",
        "epochs = range(len(train_acc))\n",
        "plt.plot(epochs, train_acc, 'b', label='Training Accuracy')\n",
        "plt.plot(epochs, val_acc, 'r', label='Validation Accuracy')\n",
        "plt.title('Training and Validation Accuracy')\n",
        "plt.legend()\n",
        "plt.figure()\n",
        "plt.show()\n",
        "\n",
        "plt.plot(epochs, train_loss, 'b', label='Training Loss')\n",
        "plt.plot(epochs, val_loss, 'r', label='Validation Loss')\n",
        "plt.title('Training and Validation Loss')\n",
        "plt.legend()\n",
        "plt.show()\n"
      ],
      "execution_count": 17,
      "outputs": [
        {
          "output_type": "display_data",
          "data": {
            "text/plain": [
              "<Figure size 640x480 with 1 Axes>"
            ],
            "image/png": "[encoded data removed]"
          },
          "metadata": {}
        },
        {
          "output_type": "display_data",
          "data": {
            "text/plain": [
              "<Figure size 640x480 with 0 Axes>"
            ]
          },
          "metadata": {}
        },
        {
          "output_type": "display_data",
          "data": {
            "text/plain": [
              "<Figure size 640x480 with 1 Axes>"
            ],
            "image/png": "[encoded data removed]"
          },
          "metadata": {}
        }
      ]
    },
    {
      "cell_type": "markdown",
      "metadata": {
        "id": "LoVhONtnt3sq"
      },
      "source": [
        "**14. Evaluate model performance on test dataset**"
      ]
    },
    {
      "cell_type": "code",
      "metadata": {
        "id": "dxXMTffHoiVy",
        "colab": {
          "base_uri": "https://localhost:8080/"
        },
        "outputId": "8044c1fa-1f22-45ee-a1fe-847056fa6057"
      },
      "source": [
        "test_output = model.evaluate(\n",
        "    test_generator,\n",
        "    steps=int(test_generator.samples / test_generator.batch_size),  # Convert steps to an integer\n",
        "    verbose=1\n",
        ")\n",
        "print(test_output)\n",
        "print(model.metrics_names)"
      ],
      "execution_count": 18,
      "outputs": [
        {
          "output_type": "stream",
          "name": "stdout",
          "text": [
            "\u001b[1m1/1\u001b[0m \u001b[32m━━━━━━━━━━━━━━━━━━━━\u001b[0m\u001b[37m\u001b[0m \u001b[1m0s\u001b[0m 466ms/step - accuracy: 0.6250 - loss: 1.3278\n",
            "[1.3277705907821655, 0.625]\n",
            "['loss', 'compile_metrics']\n"
          ]
        }
      ]
    },
    {
      "cell_type": "markdown",
      "metadata": {
        "id": "inzAGua1o1we"
      },
      "source": [
        "References:\n",
        "\n",
        "1. https://pypi.org/project/split-folders/\n",
        "2. https://keras.io/"
      ]
    }
  ]
}